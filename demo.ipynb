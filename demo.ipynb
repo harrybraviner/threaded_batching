{
 "cells": [
  {
   "cell_type": "code",
   "execution_count": null,
   "metadata": {},
   "outputs": [],
   "source": [
    "from threaded_source import ThreadedSource\n",
    "from time import sleep"
   ]
  },
  {
   "cell_type": "code",
   "execution_count": null,
   "metadata": {},
   "outputs": [],
   "source": [
    "test_source = ThreadedSource(get_params_iterator=lambda: range(100).__iter__(),\n",
    "                             get_item_from_params=lambda i: i,\n",
    "                             num_enqueueing_threads=10, max_queue_size=3)"
   ]
  },
  {
   "cell_type": "code",
   "execution_count": null,
   "metadata": {},
   "outputs": [],
   "source": [
    "epoch = [x for x in test_source]\n",
    "set(epoch) == set(range(100))"
   ]
  },
  {
   "cell_type": "markdown",
   "metadata": {},
   "source": [
    "Test delay time with artificial sleeping.\n",
    "Here we only have a single enqueuing thread, so `get_data` will be called in series."
   ]
  },
  {
   "cell_type": "code",
   "execution_count": null,
   "metadata": {},
   "outputs": [],
   "source": [
    "def get_data(x):\n",
    "    sleep(1)\n",
    "    return x\n",
    "\n",
    "test_source = ThreadedSource(get_params_iterator=lambda: range(10).__iter__(),\n",
    "                             get_item_from_params=get_data,\n",
    "                             num_enqueueing_threads=1, max_queue_size=3)\n",
    "%time [x for x in test_source]"
   ]
  },
  {
   "cell_type": "markdown",
   "metadata": {},
   "source": [
    "This should be considerably faster due to the 10 threads."
   ]
  },
  {
   "cell_type": "code",
   "execution_count": null,
   "metadata": {
    "scrolled": true
   },
   "outputs": [],
   "source": [
    "def get_data(x):\n",
    "    sleep(1)\n",
    "    return x\n",
    "\n",
    "test_source = ThreadedSource(get_params_iterator=lambda: range(10).__iter__(),\n",
    "                             get_item_from_params=get_data,\n",
    "                             num_enqueueing_threads=10, max_queue_size=3)\n",
    "%time [x for x in test_source]"
   ]
  }
 ],
 "metadata": {
  "kernelspec": {
   "display_name": "Python 3",
   "language": "python",
   "name": "python3"
  },
  "language_info": {
   "codemirror_mode": {
    "name": "ipython",
    "version": 3
   },
   "file_extension": ".py",
   "mimetype": "text/x-python",
   "name": "python",
   "nbconvert_exporter": "python",
   "pygments_lexer": "ipython3",
   "version": "3.6.8"
  }
 },
 "nbformat": 4,
 "nbformat_minor": 2
}
