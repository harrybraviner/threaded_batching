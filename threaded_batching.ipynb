{
 "cells": [
  {
   "cell_type": "code",
   "execution_count": 1,
   "metadata": {},
   "outputs": [],
   "source": [
    "from threaded_batching import ThreadedBatcher"
   ]
  },
  {
   "cell_type": "code",
   "execution_count": 2,
   "metadata": {},
   "outputs": [],
   "source": [
    "class TestBatcher(ThreadedBatcher):\n",
    "    \n",
    "    def __init__(self, num_batches=100, **kwargs):\n",
    "        self._next_batch_idx = 0\n",
    "        self._num_batches = num_batches\n",
    "        super(TestBatcher, self).__init__(**kwargs)\n",
    "    \n",
    "    def _reset_batch_params(self):\n",
    "        self._next_batch_idx = 0\n",
    "    \n",
    "    def _get_next_batch_params(self):\n",
    "        if self._next_batch_idx < self._num_batches:\n",
    "            self._next_batch_idx += 1\n",
    "            return (self._next_batch_idx-1)\n",
    "        else:\n",
    "            return None\n",
    "    \n",
    "    def _get_batch_from_params(self, params):\n",
    "        return params"
   ]
  },
  {
   "cell_type": "code",
   "execution_count": 3,
   "metadata": {},
   "outputs": [],
   "source": [
    "tds = TestBatcher()"
   ]
  },
  {
   "cell_type": "code",
   "execution_count": 4,
   "metadata": {},
   "outputs": [
    {
     "data": {
      "text/plain": [
       "True"
      ]
     },
     "execution_count": 4,
     "metadata": {},
     "output_type": "execute_result"
    }
   ],
   "source": [
    "epoch = [batch for batch in tds]\n",
    "set(epoch) == set(range(100))"
   ]
  },
  {
   "cell_type": "code",
   "execution_count": 5,
   "metadata": {},
   "outputs": [
    {
     "data": {
      "text/plain": [
       "True"
      ]
     },
     "execution_count": 5,
     "metadata": {},
     "output_type": "execute_result"
    }
   ],
   "source": [
    "epoch = [batch for batch in tds]\n",
    "set(epoch) == set(range(100))"
   ]
  },
  {
   "cell_type": "code",
   "execution_count": null,
   "metadata": {},
   "outputs": [],
   "source": []
  }
 ],
 "metadata": {
  "kernelspec": {
   "display_name": "Python 3",
   "language": "python",
   "name": "python3"
  },
  "language_info": {
   "codemirror_mode": {
    "name": "ipython",
    "version": 3
   },
   "file_extension": ".py",
   "mimetype": "text/x-python",
   "name": "python",
   "nbconvert_exporter": "python",
   "pygments_lexer": "ipython3",
   "version": "3.7.4"
  }
 },
 "nbformat": 4,
 "nbformat_minor": 2
}
