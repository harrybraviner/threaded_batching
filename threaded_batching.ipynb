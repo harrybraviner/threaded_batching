{
 "cells": [
  {
   "cell_type": "code",
   "execution_count": null,
   "metadata": {},
   "outputs": [],
   "source": [
    "from threaded_batching import ThreadedBatcher"
   ]
  },
  {
   "cell_type": "code",
   "execution_count": null,
   "metadata": {},
   "outputs": [],
   "source": [
    "class TestBatcher(ThreadedBatcher):\n",
    "    \n",
    "    def __init__(self, num_batches=100, **kwargs):\n",
    "        self._next_batch_idx = 0\n",
    "        self._num_batches = 100\n",
    "        super(TestBatcher, self).__init__(**kwargs)\n",
    "    \n",
    "    def _get_next_batch_params(self):\n",
    "        if self._next_batch_idx < self._num_batches:\n",
    "            self._next_batch_idx += 1\n",
    "            return (self._next_batch_idx-1)\n",
    "        else:\n",
    "            return None\n",
    "    \n",
    "    def _get_batch_from_params(self, params):\n",
    "        return params"
   ]
  },
  {
   "cell_type": "code",
   "execution_count": null,
   "metadata": {},
   "outputs": [],
   "source": [
    "tds = TestBatcher()"
   ]
  },
  {
   "cell_type": "code",
   "execution_count": null,
   "metadata": {},
   "outputs": [],
   "source": [
    "for batch in tds:\n",
    "    print(batch)"
   ]
  },
  {
   "cell_type": "code",
   "execution_count": null,
   "metadata": {},
   "outputs": [],
   "source": []
  }
 ],
 "metadata": {
  "kernelspec": {
   "display_name": "Python 3",
   "language": "python",
   "name": "python3"
  },
  "language_info": {
   "codemirror_mode": {
    "name": "ipython",
    "version": 3
   },
   "file_extension": ".py",
   "mimetype": "text/x-python",
   "name": "python",
   "nbconvert_exporter": "python",
   "pygments_lexer": "ipython3",
   "version": "3.7.4"
  }
 },
 "nbformat": 4,
 "nbformat_minor": 2
}
