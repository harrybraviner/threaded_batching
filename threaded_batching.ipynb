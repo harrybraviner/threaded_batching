{
 "cells": [
  {
   "cell_type": "code",
   "execution_count": null,
   "metadata": {},
   "outputs": [],
   "source": [
    "from queue import Queue, Empty\n",
    "from threading import Lock, Thread"
   ]
  },
  {
   "cell_type": "code",
   "execution_count": null,
   "metadata": {},
   "outputs": [],
   "source": [
    "class DataSupplier:\n",
    "    \n",
    "    def __init__(self, num_enqueueing_threads=2):\n",
    "        self._num_batches_remaining = 10\n",
    "        \n",
    "        self._batch_queue = Queue()\n",
    "        \n",
    "        # Have we run out of data to enqueue?\n",
    "        # If this variable is True, AND the Queue is empty, then we're done.\n",
    "        self._data_exhausted = False\n",
    "        \n",
    "        self._next_batch_ready = False\n",
    "        \n",
    "        # This lock is used to ensure that only one consumer is dequeue-ing at any one time.\n",
    "        self._iteration_lock = Lock()\n",
    "        \n",
    "        # This lock is used to ensure that only one thread is being assigned it batch params at any one time.\n",
    "        self._batch_params_lock = Lock()\n",
    "        self._queueing_threads = [Thread(target=self._enqueue, args=(), daemon=True)\n",
    "                                  for _ in range(num_enqueueing_threads)]\n",
    "        \n",
    "    def __next__(self):\n",
    "        with self._iteration_lock # Ensure that we are the only thread trying running this function\n",
    "            if self._data_exhausted is False:\n",
    "                # If we get here, there is still data to enqueue.\n",
    "                # We can safely wait for the queue to be ready, since we are the only thing dequeueing.\n",
    "                return self._batch_queue.get(block=True, timeout=None)\n",
    "            else:\n",
    "                # There is no data left to enqueue.\n",
    "                try:\n",
    "                    # Short pause to ensure that final batch has actually been enqueued.\n",
    "                    return self._batch_queue.get(block=True, timeout=0.5)\n",
    "                else Empty:\n",
    "                    # Finished the iterator\n",
    "                    raise StopIteration\n",
    "\n",
    "    def _get_next_batch_params(self):\n",
    "        raise NotImplementedError\n",
    "        \n",
    "    # FIXME - need some way to reset the params iteration\n",
    "        \n",
    "    def _get_batch_from_params(self, params):\n",
    "        raise NotImplementedError        \n",
    "            \n",
    "    def _enqueue(self):\n",
    "        \"\"\"\n",
    "        Function that gets run its own thread.\n",
    "        Continues running until we run out of batches.\n",
    "        \"\"\"\n",
    "        while self._data_exhausted is False:\n",
    "            with self._batch_params_lock:\n",
    "                batch_params = self._get_next_batch_params()\n",
    "            if batch_params is None:\n",
    "                self._data_exhausted = False\n",
    "            else:\n",
    "                this_batch = self._get_batch_from_params(params)\n",
    "                self._batch_queue.put(this_batch, block=True, timeout=None)\n"
   ]
  }
 ],
 "metadata": {
  "kernelspec": {
   "display_name": "Python 3",
   "language": "python",
   "name": "python3"
  },
  "language_info": {
   "codemirror_mode": {
    "name": "ipython",
    "version": 3
   },
   "file_extension": ".py",
   "mimetype": "text/x-python",
   "name": "python",
   "nbconvert_exporter": "python",
   "pygments_lexer": "ipython3",
   "version": "3.7.4"
  }
 },
 "nbformat": 4,
 "nbformat_minor": 2
}
